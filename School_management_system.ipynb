{
  "cells": [
    {
      "cell_type": "markdown",
      "metadata": {
        "id": "view-in-github",
        "colab_type": "text"
      },
      "source": [
        "<a href=\"https://colab.research.google.com/github/maxzameer/practicles/blob/main/School_management_system.ipynb\" target=\"_parent\"><img src=\"https://colab.research.google.com/assets/colab-badge.svg\" alt=\"Open In Colab\"/></a>"
      ]
    },
    {
      "cell_type": "code",
      "execution_count": null,
      "metadata": {
        "id": "MFVsIyAIKQDf"
      },
      "outputs": [],
      "source": [
        "class Student:\n",
        "\n",
        "    sampleRollNumber = 1000\n",
        "\n",
        "    def __init__(self, name, age, grade,subject):\n",
        "        Student.sampleRollNumber += 1\n",
        "        self.rollNumber = Student.sampleRollNumber\n",
        "        self.name = name\n",
        "        self.age = age\n",
        "        self.grade = grade\n",
        "        self.pin = 12345\n",
        "        self.subject = subject\n",
        "        self.printDetails()\n",
        "\n",
        "    def printDetails(self):\n",
        "        print(f\"Name: {self.name}\")\n",
        "        print(f\"Roll Number: {self.rollNumber}\")\n",
        "        print(f\"Age: {self.age}\")\n",
        "        print(f\"Grade: {self.grade}\")\n",
        "        print(f\"Subjects: {self.subject}\")\n",
        "        print(f\"pin: {self.pin}\")\n",
        "        print()\n",
        "\n",
        "\n",
        "class Teacher:\n",
        "    teacherId = 0\n",
        "\n",
        "    def __init__(self, name, subject):\n",
        "        Teacher.teacherId += 1\n",
        "        self.teacherId = Teacher.teacherId\n",
        "        self.name = name\n",
        "        self.pin = 12345\n",
        "        self.subject = subject\n",
        "        self.printDetails()\n",
        "\n",
        "    def printDetails(self):\n",
        "        print(f\"Teacher ID: {self.teacherId}\")\n",
        "        print(f\"Name: {self.name}\")\n",
        "        print(f\"Subject: {self.subject}\")\n",
        "        print(f\"pin: {self.pin}\")\n",
        "        print()\n",
        "\n",
        "\n",
        "\n"
      ]
    },
    {
      "cell_type": "code",
      "execution_count": null,
      "metadata": {
        "id": "E7PebqOAMAlb"
      },
      "outputs": [],
      "source": [
        "class School:\n",
        "\n",
        "    studentList = {}\n",
        "    teacherList = {}\n",
        "\n",
        "    def __init__(self):\n",
        "        self.login = 0\n",
        "        self.teacherLogin = 0\n",
        "\n",
        "    def admitStudent(self):\n",
        "\n",
        "        name = input(\"enter name of student\")\n",
        "        age = int(input(\"enter age of student\"))\n",
        "        grade = input(\"enter grade of student\")\n",
        "        num = int(input(\"enter num of subjects\"))\n",
        "        sub = {}\n",
        "        for i in range(num):\n",
        "          subname = input(\"enter name of subjects\")\n",
        "\n",
        "          k = f'subject{i+1}'\n",
        "          sub.update({k:subname})\n",
        "\n",
        "        student = Student(name, age, grade,sub)\n",
        "\n",
        "        School.studentList.update({student.rollNumber: student})\n",
        "\n",
        "    def studentApp(self):\n",
        "        self.studentLogin()\n",
        "\n",
        "    def studentLogin(self):\n",
        "        roll_number = int(input('Enter your roll number: '))\n",
        "        if roll_number in School.studentList:\n",
        "            pin = int(input('Enter your pin number:'))\n",
        "            x = School.studentList[roll_number]\n",
        "            if pin == x.pin:\n",
        "              print('Welcome!')\n",
        "              self.login = roll_number\n",
        "              self.studentMenu()\n",
        "            else:\n",
        "              print('please enter a valid pin')\n",
        "\n",
        "        else:\n",
        "            print('Invalid roll number.')\n",
        "\n",
        "\n",
        "    def studentMenu(self):\n",
        "        print('Press 1 to check your details')\n",
        "        print('Press 2 to change pin')\n",
        "        print('Press 3 to exit')\n",
        "        choice = int(input())\n",
        "\n",
        "        if choice == 1:\n",
        "            self.checkStudentDetails()\n",
        "            self.studentMenu()\n",
        "        elif choice == 2:\n",
        "            self.changePin()\n",
        "        elif choice == 3:\n",
        "            pass\n",
        "\n",
        "    def changePin(self):\n",
        "      pin = int(input(\"enter your current pin\"))\n",
        "      if pin == School.studentList[self.login].pin:\n",
        "         newPin = int(input(\"enter your new pin\"))\n",
        "         School.studentList[self.login].pin = newPin\n",
        "         print(\"your pin has been changed successfully\")\n",
        "\n",
        "    def checkStudentDetails(self):\n",
        "        student = School.studentList[self.login]\n",
        "        print(f\"Name: {student.name}\")\n",
        "        print(f\"Roll Number: {student.rollNumber}\")\n",
        "        print(f\"Age: {student.age}\")\n",
        "        print(f\"Grade: {student.grade}\")\n",
        "        print(f\"Subjects: {student.subject}\")\n",
        "        print()\n",
        "\n",
        "    def hireTeacher(self, name, subject):\n",
        "        teacher = Teacher(name, subject)\n",
        "        School.teacherList.update({teacher.teacherId: teacher})\n",
        "\n",
        "    def teacherApp(self):\n",
        "        self.teacherLoginapp()\n",
        "\n",
        "    def teacherLoginapp(self):\n",
        "        teacher_id = int(input('Enter your teacher ID: '))\n",
        "        if teacher_id in School.teacherList:\n",
        "          p = int(input(\"enter your pin\"))\n",
        "          if p == School.teacherList[teacher_id].pin:\n",
        "            print('Welcome!')\n",
        "            self.teacherLogin = teacher_id\n",
        "            self.teacherMenu()\n",
        "          else:\n",
        "            print('you have entered a wrong pin')\n",
        "        else:\n",
        "            print('Invalid teacher ID.')\n",
        "\n",
        "    def teacherMenu(self):\n",
        "        print('Press 1 to check your details')\n",
        "        print('Press 2 to change pin')\n",
        "        print('Press 3 to exit')\n",
        "        choice = int(input())\n",
        "        if choice == 1:\n",
        "            self.checkTeacherDetails()\n",
        "            self.teacherMenu()\n",
        "        elif choice == 2:\n",
        "            self.TeacherChangePin()\n",
        "\n",
        "        elif choice == 3:\n",
        "            pass\n",
        "\n",
        "\n",
        "    def TeacherChangePin(self):\n",
        "      pin = int(input(\"enter your current pin\"))\n",
        "      if pin == School.teacherList[self.teacherLogin].pin:\n",
        "         newPin = int(input(\"enter your new pin\"))\n",
        "         School.teacherList[self.teacherLogin].pin = newPin\n",
        "         print(\"your pin has been changed successfully\")\n",
        "\n",
        "    def checkTeacherDetails(self):\n",
        "        teacher = School.teacherList[self.teacherLogin]\n",
        "        print(f\"Teacher ID: {teacher.teacherId}\")\n",
        "        print(f\"Name: {teacher.name}\")\n",
        "        print(f\"Subject: {teacher.subject}\")\n",
        "        print()\n",
        "\n",
        "\n",
        "\n",
        "\n"
      ]
    },
    {
      "cell_type": "code",
      "execution_count": null,
      "metadata": {
        "colab": {
          "base_uri": "https://localhost:8080/"
        },
        "id": "DMeWVsrP8tJJ",
        "outputId": "db16d018-77ad-43d1-a105-4dea12da7245"
      },
      "outputs": [
        {
          "name": "stdout",
          "output_type": "stream",
          "text": [
            "enter name of studentavro\n",
            "enter age of student20\n",
            "enter grade of student1\n",
            "enter num of subjects2\n",
            "enter name of subjectsopp\n",
            "enter name of subjectsdsa\n",
            "Name: avro\n",
            "Roll Number: 1001\n",
            "Age: 20\n",
            "Grade: 1\n",
            "Subjects: {'subject1': 'opp', 'subject2': 'dsa'}\n",
            "pin: 12345\n",
            "\n"
          ]
        }
      ],
      "source": [
        "school = School()\n",
        "school.admitStudent()\n"
      ]
    },
    {
      "cell_type": "code",
      "execution_count": null,
      "metadata": {
        "colab": {
          "base_uri": "https://localhost:8080/"
        },
        "id": "O_RShosJKADw",
        "outputId": "9d183b02-5517-4228-dd05-6aac525232e0"
      },
      "outputs": [
        {
          "name": "stdout",
          "output_type": "stream",
          "text": [
            "Teacher ID: 1\n",
            "Name: priyanshu\n",
            "Subject: Dsa\n",
            "pin: 12345\n",
            "\n"
          ]
        }
      ],
      "source": [
        "school.hireTeacher('priyanshu', 'Dsa')"
      ]
    },
    {
      "cell_type": "code",
      "execution_count": null,
      "metadata": {
        "id": "6Xcph3h7NGfF"
      },
      "outputs": [],
      "source": [
        "# Student login\n",
        "school.studentApp()\n"
      ]
    },
    {
      "cell_type": "code",
      "execution_count": null,
      "metadata": {
        "colab": {
          "background_save": true
        },
        "id": "_vJ01lzyNIU1",
        "outputId": "c1edec6f-eab7-42d7-e568-8c88a85bc398"
      },
      "outputs": [
        {
          "name": "stdout",
          "output_type": "stream",
          "text": [
            "Welcome!\n",
            "Press 1 to check your details\n",
            "Press 2 to change pin\n",
            "Press 3 to exit\n"
          ]
        },
        {
          "ename": "KeyboardInterrupt",
          "evalue": "Interrupted by user",
          "output_type": "error",
          "traceback": [
            "\u001b[0;31m---------------------------------------------------------------------------\u001b[0m",
            "\u001b[0;31mKeyboardInterrupt\u001b[0m                         Traceback (most recent call last)",
            "\u001b[0;32m<ipython-input-6-1477c29d874e>\u001b[0m in \u001b[0;36m<cell line: 1>\u001b[0;34m()\u001b[0m\n\u001b[0;32m----> 1\u001b[0;31m \u001b[0mschool\u001b[0m\u001b[0;34m.\u001b[0m\u001b[0mteacherApp\u001b[0m\u001b[0;34m(\u001b[0m\u001b[0;34m)\u001b[0m\u001b[0;34m\u001b[0m\u001b[0;34m\u001b[0m\u001b[0m\n\u001b[0m",
            "\u001b[0;32m<ipython-input-2-f6c1bf32a2f2>\u001b[0m in \u001b[0;36mteacherApp\u001b[0;34m(self)\u001b[0m\n\u001b[1;32m     79\u001b[0m \u001b[0;34m\u001b[0m\u001b[0m\n\u001b[1;32m     80\u001b[0m     \u001b[0;32mdef\u001b[0m \u001b[0mteacherApp\u001b[0m\u001b[0;34m(\u001b[0m\u001b[0mself\u001b[0m\u001b[0;34m)\u001b[0m\u001b[0;34m:\u001b[0m\u001b[0;34m\u001b[0m\u001b[0;34m\u001b[0m\u001b[0m\n\u001b[0;32m---> 81\u001b[0;31m         \u001b[0mself\u001b[0m\u001b[0;34m.\u001b[0m\u001b[0mteacherLoginapp\u001b[0m\u001b[0;34m(\u001b[0m\u001b[0;34m)\u001b[0m\u001b[0;34m\u001b[0m\u001b[0;34m\u001b[0m\u001b[0m\n\u001b[0m\u001b[1;32m     82\u001b[0m \u001b[0;34m\u001b[0m\u001b[0m\n\u001b[1;32m     83\u001b[0m     \u001b[0;32mdef\u001b[0m \u001b[0mteacherLoginapp\u001b[0m\u001b[0;34m(\u001b[0m\u001b[0mself\u001b[0m\u001b[0;34m)\u001b[0m\u001b[0;34m:\u001b[0m\u001b[0;34m\u001b[0m\u001b[0;34m\u001b[0m\u001b[0m\n",
            "\u001b[0;32m<ipython-input-2-f6c1bf32a2f2>\u001b[0m in \u001b[0;36mteacherLoginapp\u001b[0;34m(self)\u001b[0m\n\u001b[1;32m     88\u001b[0m             \u001b[0mprint\u001b[0m\u001b[0;34m(\u001b[0m\u001b[0;34m'Welcome!'\u001b[0m\u001b[0;34m)\u001b[0m\u001b[0;34m\u001b[0m\u001b[0;34m\u001b[0m\u001b[0m\n\u001b[1;32m     89\u001b[0m             \u001b[0mself\u001b[0m\u001b[0;34m.\u001b[0m\u001b[0mteacherLogin\u001b[0m \u001b[0;34m=\u001b[0m \u001b[0mteacher_id\u001b[0m\u001b[0;34m\u001b[0m\u001b[0;34m\u001b[0m\u001b[0m\n\u001b[0;32m---> 90\u001b[0;31m             \u001b[0mself\u001b[0m\u001b[0;34m.\u001b[0m\u001b[0mteacherMenu\u001b[0m\u001b[0;34m(\u001b[0m\u001b[0;34m)\u001b[0m\u001b[0;34m\u001b[0m\u001b[0;34m\u001b[0m\u001b[0m\n\u001b[0m\u001b[1;32m     91\u001b[0m           \u001b[0;32melse\u001b[0m\u001b[0;34m:\u001b[0m\u001b[0;34m\u001b[0m\u001b[0;34m\u001b[0m\u001b[0m\n\u001b[1;32m     92\u001b[0m             \u001b[0mprint\u001b[0m\u001b[0;34m(\u001b[0m\u001b[0;34m'you have entered a wrong pin'\u001b[0m\u001b[0;34m)\u001b[0m\u001b[0;34m\u001b[0m\u001b[0;34m\u001b[0m\u001b[0m\n",
            "\u001b[0;32m<ipython-input-2-f6c1bf32a2f2>\u001b[0m in \u001b[0;36mteacherMenu\u001b[0;34m(self)\u001b[0m\n\u001b[1;32m     98\u001b[0m         \u001b[0mprint\u001b[0m\u001b[0;34m(\u001b[0m\u001b[0;34m'Press 2 to change pin'\u001b[0m\u001b[0;34m)\u001b[0m\u001b[0;34m\u001b[0m\u001b[0;34m\u001b[0m\u001b[0m\n\u001b[1;32m     99\u001b[0m         \u001b[0mprint\u001b[0m\u001b[0;34m(\u001b[0m\u001b[0;34m'Press 3 to exit'\u001b[0m\u001b[0;34m)\u001b[0m\u001b[0;34m\u001b[0m\u001b[0;34m\u001b[0m\u001b[0m\n\u001b[0;32m--> 100\u001b[0;31m         \u001b[0mchoice\u001b[0m \u001b[0;34m=\u001b[0m \u001b[0mint\u001b[0m\u001b[0;34m(\u001b[0m\u001b[0minput\u001b[0m\u001b[0;34m(\u001b[0m\u001b[0;34m)\u001b[0m\u001b[0;34m)\u001b[0m\u001b[0;34m\u001b[0m\u001b[0;34m\u001b[0m\u001b[0m\n\u001b[0m\u001b[1;32m    101\u001b[0m         \u001b[0;32mif\u001b[0m \u001b[0mchoice\u001b[0m \u001b[0;34m==\u001b[0m \u001b[0;36m1\u001b[0m\u001b[0;34m:\u001b[0m\u001b[0;34m\u001b[0m\u001b[0;34m\u001b[0m\u001b[0m\n\u001b[1;32m    102\u001b[0m             \u001b[0mself\u001b[0m\u001b[0;34m.\u001b[0m\u001b[0mcheckTeacherDetails\u001b[0m\u001b[0;34m(\u001b[0m\u001b[0;34m)\u001b[0m\u001b[0;34m\u001b[0m\u001b[0;34m\u001b[0m\u001b[0m\n",
            "\u001b[0;32m/usr/local/lib/python3.10/dist-packages/ipykernel/kernelbase.py\u001b[0m in \u001b[0;36mraw_input\u001b[0;34m(self, prompt)\u001b[0m\n\u001b[1;32m    849\u001b[0m                 \u001b[0;34m\"raw_input was called, but this frontend does not support input requests.\"\u001b[0m\u001b[0;34m\u001b[0m\u001b[0;34m\u001b[0m\u001b[0m\n\u001b[1;32m    850\u001b[0m             )\n\u001b[0;32m--> 851\u001b[0;31m         return self._input_request(str(prompt),\n\u001b[0m\u001b[1;32m    852\u001b[0m             \u001b[0mself\u001b[0m\u001b[0;34m.\u001b[0m\u001b[0m_parent_ident\u001b[0m\u001b[0;34m,\u001b[0m\u001b[0;34m\u001b[0m\u001b[0;34m\u001b[0m\u001b[0m\n\u001b[1;32m    853\u001b[0m             \u001b[0mself\u001b[0m\u001b[0;34m.\u001b[0m\u001b[0m_parent_header\u001b[0m\u001b[0;34m,\u001b[0m\u001b[0;34m\u001b[0m\u001b[0;34m\u001b[0m\u001b[0m\n",
            "\u001b[0;32m/usr/local/lib/python3.10/dist-packages/ipykernel/kernelbase.py\u001b[0m in \u001b[0;36m_input_request\u001b[0;34m(self, prompt, ident, parent, password)\u001b[0m\n\u001b[1;32m    893\u001b[0m             \u001b[0;32mexcept\u001b[0m \u001b[0mKeyboardInterrupt\u001b[0m\u001b[0;34m:\u001b[0m\u001b[0;34m\u001b[0m\u001b[0;34m\u001b[0m\u001b[0m\n\u001b[1;32m    894\u001b[0m                 \u001b[0;31m# re-raise KeyboardInterrupt, to truncate traceback\u001b[0m\u001b[0;34m\u001b[0m\u001b[0;34m\u001b[0m\u001b[0m\n\u001b[0;32m--> 895\u001b[0;31m                 \u001b[0;32mraise\u001b[0m \u001b[0mKeyboardInterrupt\u001b[0m\u001b[0;34m(\u001b[0m\u001b[0;34m\"Interrupted by user\"\u001b[0m\u001b[0;34m)\u001b[0m \u001b[0;32mfrom\u001b[0m \u001b[0;32mNone\u001b[0m\u001b[0;34m\u001b[0m\u001b[0;34m\u001b[0m\u001b[0m\n\u001b[0m\u001b[1;32m    896\u001b[0m             \u001b[0;32mexcept\u001b[0m \u001b[0mException\u001b[0m \u001b[0;32mas\u001b[0m \u001b[0me\u001b[0m\u001b[0;34m:\u001b[0m\u001b[0;34m\u001b[0m\u001b[0;34m\u001b[0m\u001b[0m\n\u001b[1;32m    897\u001b[0m                 \u001b[0mself\u001b[0m\u001b[0;34m.\u001b[0m\u001b[0mlog\u001b[0m\u001b[0;34m.\u001b[0m\u001b[0mwarning\u001b[0m\u001b[0;34m(\u001b[0m\u001b[0;34m\"Invalid Message:\"\u001b[0m\u001b[0;34m,\u001b[0m \u001b[0mexc_info\u001b[0m\u001b[0;34m=\u001b[0m\u001b[0;32mTrue\u001b[0m\u001b[0;34m)\u001b[0m\u001b[0;34m\u001b[0m\u001b[0;34m\u001b[0m\u001b[0m\n",
            "\u001b[0;31mKeyboardInterrupt\u001b[0m: Interrupted by user"
          ]
        }
      ],
      "source": [
        "\n",
        "school.teacherApp()"
      ]
    },
    {
      "cell_type": "markdown",
      "metadata": {
        "id": "yDPmJIY5_bfT"
      },
      "source": []
    },
    {
      "cell_type": "code",
      "execution_count": null,
      "metadata": {
        "id": "6RffXl6c3qwc"
      },
      "outputs": [],
      "source": []
    },
    {
      "cell_type": "code",
      "execution_count": null,
      "metadata": {
        "id": "1Az0ha0D3cMb"
      },
      "outputs": [],
      "source": []
    }
  ],
  "metadata": {
    "colab": {
      "provenance": [],
      "authorship_tag": "ABX9TyNAdb44QCNVHW1hacL6zoka",
      "include_colab_link": true
    },
    "kernelspec": {
      "display_name": "Python 3",
      "name": "python3"
    },
    "language_info": {
      "name": "python"
    }
  },
  "nbformat": 4,
  "nbformat_minor": 0
}