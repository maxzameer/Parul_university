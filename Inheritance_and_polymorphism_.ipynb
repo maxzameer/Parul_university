{
  "nbformat": 4,
  "nbformat_minor": 0,
  "metadata": {
    "colab": {
      "provenance": [],
      "authorship_tag": "ABX9TyMzDwil8liyYkInK+zebeTT",
      "include_colab_link": true
    },
    "kernelspec": {
      "name": "python3",
      "display_name": "Python 3"
    },
    "language_info": {
      "name": "python"
    }
  },
  "cells": [
    {
      "cell_type": "markdown",
      "metadata": {
        "id": "view-in-github",
        "colab_type": "text"
      },
      "source": [
        "<a href=\"https://colab.research.google.com/github/maxzameer/practicles/blob/main/Inheritance_and_polymorphism_.ipynb\" target=\"_parent\"><img src=\"https://colab.research.google.com/assets/colab-badge.svg\" alt=\"Open In Colab\"/></a>"
      ]
    },
    {
      "cell_type": "code",
      "execution_count": null,
      "metadata": {
        "id": "BEqH___IK-SM"
      },
      "outputs": [],
      "source": [
        "class Parent:\n",
        "\n",
        "  def __init__(self):\n",
        "    print(\"this is  a constuctor from parent class\")\n",
        "    self.same()\n",
        "\n",
        "\n",
        "  def f(self):\n",
        "    print(\"method from Parent class \")\n",
        "\n",
        "  def same(self):\n",
        "    print('method same from Parent class')\n",
        "\n",
        "\n",
        "    \"\"\" when the child class will call printsame() method with the help of super()\n",
        "      as same() method is declaired in child class too or same() is overridden in child class\n",
        "      so according to MRO if the method is presend in the current class it will run the overridden method\n",
        "      otherwise it will look for the method in parent class so whenever this method will be called same()\n",
        "      will be called from the child class.\n",
        "  \"\"\"\n",
        "\n",
        "  def printsame(self):\n",
        "    print('method same from Parent class')\n",
        "    self.same()\n",
        "\n",
        "\n",
        "\n",
        "class Parent2:\n",
        "  def __init__(self):\n",
        "    print(\"this is  a constuctor from parent2 class\")\n",
        "    self.same()\n",
        "\n",
        "\n",
        "  def f(self):\n",
        "    print(\"method from parent 2\")\n",
        "\n",
        "  def same(self):\n",
        "    print('method same from parent 2')\n",
        "\n",
        "  \"\"\" when the child class will call printsame() method with the help of super()\n",
        "      as same() method is declaired in child class too or same() is overridden in child class\n",
        "      so according to MRO if the method is presend in the current class it will run the overridden method\n",
        "      otherwise it will look for the method in parent class so whenever this method will be called same()\n",
        "      will be called from the child class.\n",
        "  \"\"\"\n",
        "\n",
        "  def printsame(self):\n",
        "    print('method from parent 2')\n",
        "\n",
        "    self.same()\n",
        "\n",
        "\n",
        "\n",
        "class Child(Parent,Parent2):\n",
        "\n",
        "  def __init__(self):\n",
        "    print(\"this is  a constuctor from child class\")\n",
        "    #Parent.__init__(self)\n",
        "    #Parent2.__init__(self)\n",
        "\n",
        "    # to call parent class's method or constuctor we use super method\n",
        "    super().__init__()\n",
        "\n",
        "    # this parameterised super() method is equaivelent to non parameterised super() method as the default value is current class.\n",
        "    super(Child,self).__init__()\n",
        "    print()\n",
        "\n",
        "    \"\"\"\n",
        "    the argument parent the in super() tells to run the method or constructor from the parent2 class\n",
        "    as we have extend parent2 after parent class.. according to MRO as super(child,self) will call method from parent class,\n",
        "    super(Parent,self) will call parent2 method\n",
        "\n",
        "    \"\"\"\n",
        "\n",
        "    super(Parent,self).__init__()\n",
        "\n",
        "\n",
        "\n",
        "\n",
        "\n",
        "  def h(self):\n",
        "    print('method from Child')\n",
        "\n",
        "  def same(self):\n",
        "    print('method same from Child class')\n",
        "\n",
        "  def printsame(self):\n",
        "    print('method from Child class')\n",
        "\n",
        "    self.same()\n",
        "    # this will call same() method from Parent class.\n",
        "    super().same()\n",
        "    super(Child,same).same()\n",
        "\n",
        "    # this will call same() method from Parent2 class.\n",
        "    super(Parent,self).same()\n",
        "\n",
        "\n",
        "\n",
        "\n",
        "\n",
        "\n",
        "\n",
        "\n",
        "\n"
      ]
    },
    {
      "cell_type": "code",
      "source": [],
      "metadata": {
        "id": "8DUae-MJWyaA"
      },
      "execution_count": null,
      "outputs": []
    },
    {
      "cell_type": "code",
      "source": [
        "a = Child()"
      ],
      "metadata": {
        "colab": {
          "base_uri": "https://localhost:8080/"
        },
        "id": "hCoCez6zRtI1",
        "outputId": "2ee36516-5fae-44bf-eb1b-3dad38361524"
      },
      "execution_count": null,
      "outputs": [
        {
          "output_type": "stream",
          "name": "stdout",
          "text": [
            "this is  a constuctor from child class\n",
            "this is  a constuctor from parent class\n",
            "method same from Child class\n",
            "this is  a constuctor from parent class\n",
            "method same from Child class\n",
            "\n",
            "this is  a constuctor from parent2 class\n",
            "method same from Child class\n"
          ]
        }
      ]
    },
    {
      "cell_type": "code",
      "source": [
        "# overloading"
      ],
      "metadata": {
        "id": "7_V7P4BWofYu"
      },
      "execution_count": null,
      "outputs": []
    },
    {
      "cell_type": "code",
      "source": [
        "class Overload:\n",
        "\n",
        "  def add(self,a,b,c=0):\n",
        "    print(a+b+c)\n",
        "\n",
        "  def add2(*args):\n",
        "    temp = 0\n",
        "    for i in range(1,len(args)):\n",
        "      temp = temp + args[i]\n",
        "    print(temp)\n",
        "\n"
      ],
      "metadata": {
        "id": "vkYm_3fqpaSL"
      },
      "execution_count": null,
      "outputs": []
    },
    {
      "cell_type": "code",
      "source": [
        "x = Overload()"
      ],
      "metadata": {
        "id": "vMMZbzEZHOvq"
      },
      "execution_count": null,
      "outputs": []
    },
    {
      "cell_type": "code",
      "source": [
        "x.add2(5,12)\n",
        "x.add2(5,2,7)\n",
        "x.add2(5,2,7)"
      ],
      "metadata": {
        "colab": {
          "base_uri": "https://localhost:8080/"
        },
        "id": "1jL6jW0rHToD",
        "outputId": "bd0e4367-0453-47dc-fd32-046aa2607be5"
      },
      "execution_count": null,
      "outputs": [
        {
          "output_type": "stream",
          "name": "stdout",
          "text": [
            "17\n",
            "14\n",
            "14\n"
          ]
        }
      ]
    }
  ]
}