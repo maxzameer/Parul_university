{
  "cells": [
    {
      "cell_type": "markdown",
      "metadata": {
        "id": "view-in-github",
        "colab_type": "text"
      },
      "source": [
        "<a href=\"https://colab.research.google.com/github/maxzameer/practicles/blob/main/bankApp.ipynb\" target=\"_parent\"><img src=\"https://colab.research.google.com/assets/colab-badge.svg\" alt=\"Open In Colab\"/></a>"
      ]
    },
    {
      "cell_type": "code",
      "source": [],
      "metadata": {
        "id": "mBso-jTddYNF"
      },
      "execution_count": null,
      "outputs": []
    },
    {
      "cell_type": "code",
      "execution_count": null,
      "metadata": {
        "id": "p5c9xpAg3YBL"
      },
      "outputs": [],
      "source": [
        "\n",
        "class Account:\n",
        "\n",
        "  sampleAcc = 12345\n",
        "\n",
        "  def __init__(self,name,amount,pin):\n",
        "    Account.sampleAcc += 1\n",
        "    self.accountNumber = Account.sampleAcc\n",
        "    self.name = name\n",
        "    self.balance = amount\n",
        "    self.pin = pin\n",
        "    self.printDetail()\n",
        "\n",
        "  def printDetail(self):\n",
        "    print(self.name)\n",
        "    print(self.accountNumber)\n",
        "    print(self.balance)\n",
        "    print(self.pin)\n",
        "    print()\n",
        "\n",
        "\n",
        "\n",
        "\n",
        "\n",
        "\n"
      ]
    },
    {
      "cell_type": "code",
      "execution_count": null,
      "metadata": {
        "id": "8kaGippMFuCl"
      },
      "outputs": [],
      "source": [
        "class Staff:\n",
        "  id = 0\n",
        "\n",
        "  def __init__(self,name,pin):\n",
        "    Staff.id += 1\n",
        "    self.id = Staff.id\n",
        "    self.name = name\n",
        "    self.pin = pin\n",
        "    self.printDetail()\n",
        "\n",
        "\n",
        "  def printDetail(self):\n",
        "    print(self.id)\n",
        "    print(self.pin)\n",
        "    print()\n",
        "\n"
      ]
    },
    {
      "cell_type": "code",
      "execution_count": null,
      "metadata": {
        "id": "lPjup-G03OTE"
      },
      "outputs": [],
      "source": [
        "class Bank:\n",
        "\n",
        "  # to start customer app create object of Bank class and call userApp().\n",
        "  # to start Staff app call staffApp() with the help of the object\n",
        "\n",
        "  accountList = {}\n",
        "  staffList = {}\n",
        "\n",
        "  def __init__(self):\n",
        "    self.login = 0\n",
        "    self.staffLogin =0\n",
        "\n",
        "  def createAccount(self,name,amount,pin):\n",
        "    acc = Account(name,amount,pin)\n",
        "    Bank.accountList.update({acc.accountNumber : acc})\n",
        "\n",
        "  def userApp(self):\n",
        "    self.accLogin()\n",
        "\n",
        "  def accLogin(self):\n",
        "    acc = int(input('enter your account number'))\n",
        "    pin = int(input('enter your pin number'))\n",
        "\n",
        "    if acc in Bank.accountList:\n",
        "      if pin == Bank.accountList[acc].pin:\n",
        "\n",
        "        print('welcome')\n",
        "        self.login = acc\n",
        "        self.menu()\n",
        "\n",
        "      else:\n",
        "        print('you have entered wrong details')\n",
        "        self.userApp()\n",
        "\n",
        "\n",
        "\n",
        "  def menu(self):\n",
        "    print('press 1 to check your balance')\n",
        "    print('press 2 to change your pin')\n",
        "    print('press 3 to transfer amount')\n",
        "    print('press 4 to exit')\n",
        "    i = int(input())\n",
        "\n",
        "    if i==1:\n",
        "      a = Bank.accountList[self.login].balance\n",
        "      print(a)\n",
        "      self.menu()\n",
        "\n",
        "\n",
        "    elif i==2:\n",
        "      self.changePin()\n",
        "      self.menu()\n",
        "\n",
        "    elif i ==3:\n",
        "      acc = int(input('enter account number'))\n",
        "      amount = int(input('enter your amount'))\n",
        "      self.transfer(self.login,acc,amount)\n",
        "      self.menu()\n",
        "\n",
        "    elif i==4:\n",
        "      pass\n",
        "\n",
        "  def changePin(self):\n",
        "    i = int(input('enter your current pin'))\n",
        "    if Bank.accountList[self.login].pin == i:\n",
        "      pin = int(input('enter your new pin'))\n",
        "      Bank.accountList[self.login].pin = pin\n",
        "      print('your pin has been changed successfully')\n",
        "    else:\n",
        "      print('you have entered a wrong pin')\n",
        "\n",
        "  def transfer(self,account1,account,amount):\n",
        "\n",
        "    if account1 in Bank.accountList and account in Bank.accountList:\n",
        "\n",
        "      if  Bank.accountList[account1].balance >= amount:\n",
        "\n",
        "        Bank.accountList[account1].balance -= amount\n",
        "        Bank.accountList[account].balance += amount\n",
        "        print(f'your amount transfered successfull your balance is : {Bank.accountList[account1].balance}')\n",
        "      else:\n",
        "        print('you have low balance')\n",
        "    else:\n",
        "      print('you have entered wrong account detail')\n",
        "\n",
        "\n",
        "\n",
        "\n",
        "\n",
        "  def deposit(self,account,amount):\n",
        "\n",
        "      Bank.accountList[account].balance += amount\n",
        "      print(f'yout amount deposit successfull your balance is : {Bank.accountList[account].balance}')\n",
        "\n",
        "\n",
        "  def withdrawal(self,account,amount):\n",
        "\n",
        "    if  Bank.accountList[account].balance >= amount:\n",
        "      Bank.accountList[account].balance -= amount\n",
        "\n",
        "      print(f'your amount withdrawal is successfull your balance is : {Bank.accountList[account].balance}')\n",
        "    else:\n",
        "      print('you have low balance')\n",
        "\n",
        "\n",
        "\n",
        "\n",
        "\n",
        "\n",
        "\n",
        "\n",
        "\n",
        "\n",
        "\n",
        "\n",
        "\n",
        "  def createStaff(self,name,pin):\n",
        "    a = Staff(name,pin)\n",
        "    Bank.staffList.update({a.id: a})\n",
        "\n",
        "\n",
        "  def staffApp(self):\n",
        "    self.login = 0\n",
        "    self.sLogin()\n",
        "\n",
        "\n",
        "  def sLogin(self):\n",
        "    acc = int(input('enter your id number'))\n",
        "\n",
        "    if acc in Bank.staffList:\n",
        "      pin = int(input('enter your pin number'))\n",
        "      if pin == Bank.staffList[acc].pin:\n",
        "\n",
        "        print('welcome')\n",
        "        self.staffLogin = acc\n",
        "        self.menu2()\n",
        "      else:\n",
        "        print('you have entered wrong pin')\n",
        "        self.staffApp()\n",
        "\n",
        "    else:\n",
        "        print('you have entered wrong details')\n",
        "        self.staffApp()\n",
        "\n",
        "\n",
        "\n",
        "\n",
        "\n",
        "  def menu2(self):\n",
        "    print('press 1 to create account')\n",
        "    print('press 2 to transfer amount')\n",
        "    print('press 3 to deposite')\n",
        "    print('press 4 to withdrawal')\n",
        "    print('press 5 to exit')\n",
        "    i = int(input())\n",
        "\n",
        "    if i==1:\n",
        "      name = input('enter your name')\n",
        "      amt = int(input('enter your amount'))\n",
        "      pin = int(input('enter your pin number'))\n",
        "      self.createAccount(name,amt,pin)\n",
        "      self.menu2()\n",
        "\n",
        "\n",
        "    elif i==2:\n",
        "      acc1 = int(input('enter first account number'))\n",
        "      acc2 = int(input('enter second account number'))\n",
        "      amount = int(input('enter your amount'))\n",
        "      self.transfer(acc1,acc2,amount)\n",
        "      self.menu2()\n",
        "\n",
        "    elif i ==3:\n",
        "      acc = int(input('enter account number'))\n",
        "      amount = int(input('enter your amount'))\n",
        "      self.deposit(acc,amount)\n",
        "      self.menu2()\n",
        "\n",
        "    elif i==4:\n",
        "      acc = int(input('enter account number'))\n",
        "      amount = int(input('enter your amount'))\n",
        "      self.withdrawal(acc,amount)\n",
        "      self.menu2()\n",
        "\n",
        "    elif i == 5:\n",
        "      print(\"you are logged out\")\n",
        "\n",
        "\n",
        "\n",
        "\n",
        "\n",
        "\n",
        "\n",
        "\n",
        "\n",
        "\n",
        "\n",
        "\n",
        "\n",
        "\n",
        "\n",
        "\n"
      ]
    },
    {
      "cell_type": "code",
      "execution_count": null,
      "metadata": {
        "colab": {
          "base_uri": "https://localhost:8080/"
        },
        "id": "7P5KPP1b6xWw",
        "outputId": "8a8dbf70-126c-433a-b523-3bcc659e2560"
      },
      "outputs": [
        {
          "output_type": "stream",
          "name": "stdout",
          "text": [
            "5\n",
            "1234\n",
            "\n",
            "6\n",
            "4321\n",
            "\n"
          ]
        }
      ],
      "source": [
        "bank = Bank()\n",
        "bank.createStaff('xyz',1234)\n",
        "bank.createStaff('vineet',4321)\n",
        "\n"
      ]
    },
    {
      "cell_type": "code",
      "execution_count": null,
      "metadata": {
        "colab": {
          "base_uri": "https://localhost:8080/"
        },
        "id": "XonGzcAQ7AyA",
        "outputId": "edaaf40c-63a2-4130-bf3f-1e0a2304c3e0"
      },
      "outputs": [
        {
          "output_type": "stream",
          "name": "stdout",
          "text": [
            "enter your id number6\n",
            "enter your pin number4321\n",
            "welcome\n",
            "press 1 to create account\n",
            "press 2 to transfer amount\n",
            "press 3 to deposite\n",
            "press 4 to withdrawal\n",
            "press 5 to exit\n",
            "1\n",
            "enter your namezameer\n",
            "enter your amount500000\n",
            "enter your pin number1234\n",
            "zameer\n",
            "12350\n",
            "500000\n",
            "1234\n",
            "\n",
            "press 1 to create account\n",
            "press 2 to transfer amount\n",
            "press 3 to deposite\n",
            "press 4 to withdrawal\n",
            "press 5 to exit\n",
            "1\n",
            "enter your namemehul\n",
            "enter your amount1234\n",
            "enter your pin number1234\n",
            "mehul\n",
            "12351\n",
            "1234\n",
            "1234\n",
            "\n",
            "press 1 to create account\n",
            "press 2 to transfer amount\n",
            "press 3 to deposite\n",
            "press 4 to withdrawal\n",
            "press 5 to exit\n",
            "5\n",
            "you are logged out\n"
          ]
        }
      ],
      "source": [
        "bank.staffApp()"
      ]
    },
    {
      "cell_type": "code",
      "execution_count": null,
      "metadata": {
        "colab": {
          "base_uri": "https://localhost:8080/",
          "height": 525
        },
        "id": "iZX19mBb_VlX",
        "outputId": "2ffd2ed6-31a6-40fe-c283-adcda60066e7"
      },
      "outputs": [
        {
          "output_type": "stream",
          "name": "stdout",
          "text": [
            "enter your account number12351\n",
            "enter your pin number1234\n",
            "you have entered wrong details\n",
            "enter your account number12351\n",
            "enter your pin number5555\n",
            "welcome\n",
            "press 1 to check your balance\n",
            "press 2 to change your pin\n",
            "press 3 to transfer amount\n",
            "press 4 to exit\n"
          ]
        },
        {
          "output_type": "error",
          "ename": "KeyboardInterrupt",
          "evalue": "ignored",
          "traceback": [
            "\u001b[0;31m---------------------------------------------------------------------------\u001b[0m",
            "\u001b[0;31mKeyboardInterrupt\u001b[0m                         Traceback (most recent call last)",
            "\u001b[0;32m<ipython-input-42-07e111b051d3>\u001b[0m in \u001b[0;36m<cell line: 1>\u001b[0;34m()\u001b[0m\n\u001b[0;32m----> 1\u001b[0;31m \u001b[0mbank\u001b[0m\u001b[0;34m.\u001b[0m\u001b[0muserApp\u001b[0m\u001b[0;34m(\u001b[0m\u001b[0;34m)\u001b[0m\u001b[0;34m\u001b[0m\u001b[0;34m\u001b[0m\u001b[0m\n\u001b[0m",
            "\u001b[0;32m<ipython-input-38-9bc671c0b196>\u001b[0m in \u001b[0;36muserApp\u001b[0;34m(self)\u001b[0m\n\u001b[1;32m     16\u001b[0m \u001b[0;34m\u001b[0m\u001b[0m\n\u001b[1;32m     17\u001b[0m   \u001b[0;32mdef\u001b[0m \u001b[0muserApp\u001b[0m\u001b[0;34m(\u001b[0m\u001b[0mself\u001b[0m\u001b[0;34m)\u001b[0m\u001b[0;34m:\u001b[0m\u001b[0;34m\u001b[0m\u001b[0;34m\u001b[0m\u001b[0m\n\u001b[0;32m---> 18\u001b[0;31m     \u001b[0mself\u001b[0m\u001b[0;34m.\u001b[0m\u001b[0maccLogin\u001b[0m\u001b[0;34m(\u001b[0m\u001b[0;34m)\u001b[0m\u001b[0;34m\u001b[0m\u001b[0;34m\u001b[0m\u001b[0m\n\u001b[0m\u001b[1;32m     19\u001b[0m \u001b[0;34m\u001b[0m\u001b[0m\n\u001b[1;32m     20\u001b[0m   \u001b[0;32mdef\u001b[0m \u001b[0maccLogin\u001b[0m\u001b[0;34m(\u001b[0m\u001b[0mself\u001b[0m\u001b[0;34m)\u001b[0m\u001b[0;34m:\u001b[0m\u001b[0;34m\u001b[0m\u001b[0;34m\u001b[0m\u001b[0m\n",
            "\u001b[0;32m<ipython-input-38-9bc671c0b196>\u001b[0m in \u001b[0;36maccLogin\u001b[0;34m(self)\u001b[0m\n\u001b[1;32m     31\u001b[0m       \u001b[0;32melse\u001b[0m\u001b[0;34m:\u001b[0m\u001b[0;34m\u001b[0m\u001b[0;34m\u001b[0m\u001b[0m\n\u001b[1;32m     32\u001b[0m         \u001b[0mprint\u001b[0m\u001b[0;34m(\u001b[0m\u001b[0;34m'you have entered wrong details'\u001b[0m\u001b[0;34m)\u001b[0m\u001b[0;34m\u001b[0m\u001b[0;34m\u001b[0m\u001b[0m\n\u001b[0;32m---> 33\u001b[0;31m         \u001b[0mself\u001b[0m\u001b[0;34m.\u001b[0m\u001b[0muserApp\u001b[0m\u001b[0;34m(\u001b[0m\u001b[0;34m)\u001b[0m\u001b[0;34m\u001b[0m\u001b[0;34m\u001b[0m\u001b[0m\n\u001b[0m\u001b[1;32m     34\u001b[0m \u001b[0;34m\u001b[0m\u001b[0m\n\u001b[1;32m     35\u001b[0m \u001b[0;34m\u001b[0m\u001b[0m\n",
            "\u001b[0;32m<ipython-input-38-9bc671c0b196>\u001b[0m in \u001b[0;36muserApp\u001b[0;34m(self)\u001b[0m\n\u001b[1;32m     16\u001b[0m \u001b[0;34m\u001b[0m\u001b[0m\n\u001b[1;32m     17\u001b[0m   \u001b[0;32mdef\u001b[0m \u001b[0muserApp\u001b[0m\u001b[0;34m(\u001b[0m\u001b[0mself\u001b[0m\u001b[0;34m)\u001b[0m\u001b[0;34m:\u001b[0m\u001b[0;34m\u001b[0m\u001b[0;34m\u001b[0m\u001b[0m\n\u001b[0;32m---> 18\u001b[0;31m     \u001b[0mself\u001b[0m\u001b[0;34m.\u001b[0m\u001b[0maccLogin\u001b[0m\u001b[0;34m(\u001b[0m\u001b[0;34m)\u001b[0m\u001b[0;34m\u001b[0m\u001b[0;34m\u001b[0m\u001b[0m\n\u001b[0m\u001b[1;32m     19\u001b[0m \u001b[0;34m\u001b[0m\u001b[0m\n\u001b[1;32m     20\u001b[0m   \u001b[0;32mdef\u001b[0m \u001b[0maccLogin\u001b[0m\u001b[0;34m(\u001b[0m\u001b[0mself\u001b[0m\u001b[0;34m)\u001b[0m\u001b[0;34m:\u001b[0m\u001b[0;34m\u001b[0m\u001b[0;34m\u001b[0m\u001b[0m\n",
            "\u001b[0;32m<ipython-input-38-9bc671c0b196>\u001b[0m in \u001b[0;36maccLogin\u001b[0;34m(self)\u001b[0m\n\u001b[1;32m     27\u001b[0m         \u001b[0mprint\u001b[0m\u001b[0;34m(\u001b[0m\u001b[0;34m'welcome'\u001b[0m\u001b[0;34m)\u001b[0m\u001b[0;34m\u001b[0m\u001b[0;34m\u001b[0m\u001b[0m\n\u001b[1;32m     28\u001b[0m         \u001b[0mself\u001b[0m\u001b[0;34m.\u001b[0m\u001b[0mlogin\u001b[0m \u001b[0;34m=\u001b[0m \u001b[0macc\u001b[0m\u001b[0;34m\u001b[0m\u001b[0;34m\u001b[0m\u001b[0m\n\u001b[0;32m---> 29\u001b[0;31m         \u001b[0mself\u001b[0m\u001b[0;34m.\u001b[0m\u001b[0mmenu\u001b[0m\u001b[0;34m(\u001b[0m\u001b[0;34m)\u001b[0m\u001b[0;34m\u001b[0m\u001b[0;34m\u001b[0m\u001b[0m\n\u001b[0m\u001b[1;32m     30\u001b[0m \u001b[0;34m\u001b[0m\u001b[0m\n\u001b[1;32m     31\u001b[0m       \u001b[0;32melse\u001b[0m\u001b[0;34m:\u001b[0m\u001b[0;34m\u001b[0m\u001b[0;34m\u001b[0m\u001b[0m\n",
            "\u001b[0;32m<ipython-input-38-9bc671c0b196>\u001b[0m in \u001b[0;36mmenu\u001b[0;34m(self)\u001b[0m\n\u001b[1;32m     40\u001b[0m     \u001b[0mprint\u001b[0m\u001b[0;34m(\u001b[0m\u001b[0;34m'press 3 to transfer amount'\u001b[0m\u001b[0;34m)\u001b[0m\u001b[0;34m\u001b[0m\u001b[0;34m\u001b[0m\u001b[0m\n\u001b[1;32m     41\u001b[0m     \u001b[0mprint\u001b[0m\u001b[0;34m(\u001b[0m\u001b[0;34m'press 4 to exit'\u001b[0m\u001b[0;34m)\u001b[0m\u001b[0;34m\u001b[0m\u001b[0;34m\u001b[0m\u001b[0m\n\u001b[0;32m---> 42\u001b[0;31m     \u001b[0mi\u001b[0m \u001b[0;34m=\u001b[0m \u001b[0mint\u001b[0m\u001b[0;34m(\u001b[0m\u001b[0minput\u001b[0m\u001b[0;34m(\u001b[0m\u001b[0;34m)\u001b[0m\u001b[0;34m)\u001b[0m\u001b[0;34m\u001b[0m\u001b[0;34m\u001b[0m\u001b[0m\n\u001b[0m\u001b[1;32m     43\u001b[0m \u001b[0;34m\u001b[0m\u001b[0m\n\u001b[1;32m     44\u001b[0m     \u001b[0;32mif\u001b[0m \u001b[0mi\u001b[0m\u001b[0;34m==\u001b[0m\u001b[0;36m1\u001b[0m\u001b[0;34m:\u001b[0m\u001b[0;34m\u001b[0m\u001b[0;34m\u001b[0m\u001b[0m\n",
            "\u001b[0;32m/usr/local/lib/python3.10/dist-packages/ipykernel/kernelbase.py\u001b[0m in \u001b[0;36mraw_input\u001b[0;34m(self, prompt)\u001b[0m\n\u001b[1;32m    849\u001b[0m                 \u001b[0;34m\"raw_input was called, but this frontend does not support input requests.\"\u001b[0m\u001b[0;34m\u001b[0m\u001b[0;34m\u001b[0m\u001b[0m\n\u001b[1;32m    850\u001b[0m             )\n\u001b[0;32m--> 851\u001b[0;31m         return self._input_request(str(prompt),\n\u001b[0m\u001b[1;32m    852\u001b[0m             \u001b[0mself\u001b[0m\u001b[0;34m.\u001b[0m\u001b[0m_parent_ident\u001b[0m\u001b[0;34m,\u001b[0m\u001b[0;34m\u001b[0m\u001b[0;34m\u001b[0m\u001b[0m\n\u001b[1;32m    853\u001b[0m             \u001b[0mself\u001b[0m\u001b[0;34m.\u001b[0m\u001b[0m_parent_header\u001b[0m\u001b[0;34m,\u001b[0m\u001b[0;34m\u001b[0m\u001b[0;34m\u001b[0m\u001b[0m\n",
            "\u001b[0;32m/usr/local/lib/python3.10/dist-packages/ipykernel/kernelbase.py\u001b[0m in \u001b[0;36m_input_request\u001b[0;34m(self, prompt, ident, parent, password)\u001b[0m\n\u001b[1;32m    893\u001b[0m             \u001b[0;32mexcept\u001b[0m \u001b[0mKeyboardInterrupt\u001b[0m\u001b[0;34m:\u001b[0m\u001b[0;34m\u001b[0m\u001b[0;34m\u001b[0m\u001b[0m\n\u001b[1;32m    894\u001b[0m                 \u001b[0;31m# re-raise KeyboardInterrupt, to truncate traceback\u001b[0m\u001b[0;34m\u001b[0m\u001b[0;34m\u001b[0m\u001b[0m\n\u001b[0;32m--> 895\u001b[0;31m                 \u001b[0;32mraise\u001b[0m \u001b[0mKeyboardInterrupt\u001b[0m\u001b[0;34m(\u001b[0m\u001b[0;34m\"Interrupted by user\"\u001b[0m\u001b[0;34m)\u001b[0m \u001b[0;32mfrom\u001b[0m \u001b[0;32mNone\u001b[0m\u001b[0;34m\u001b[0m\u001b[0;34m\u001b[0m\u001b[0m\n\u001b[0m\u001b[1;32m    896\u001b[0m             \u001b[0;32mexcept\u001b[0m \u001b[0mException\u001b[0m \u001b[0;32mas\u001b[0m \u001b[0me\u001b[0m\u001b[0;34m:\u001b[0m\u001b[0;34m\u001b[0m\u001b[0;34m\u001b[0m\u001b[0m\n\u001b[1;32m    897\u001b[0m                 \u001b[0mself\u001b[0m\u001b[0;34m.\u001b[0m\u001b[0mlog\u001b[0m\u001b[0;34m.\u001b[0m\u001b[0mwarning\u001b[0m\u001b[0;34m(\u001b[0m\u001b[0;34m\"Invalid Message:\"\u001b[0m\u001b[0;34m,\u001b[0m \u001b[0mexc_info\u001b[0m\u001b[0;34m=\u001b[0m\u001b[0;32mTrue\u001b[0m\u001b[0;34m)\u001b[0m\u001b[0;34m\u001b[0m\u001b[0;34m\u001b[0m\u001b[0m\n",
            "\u001b[0;31mKeyboardInterrupt\u001b[0m: Interrupted by user"
          ]
        }
      ],
      "source": [
        "\n",
        "bank.userApp()"
      ]
    },
    {
      "cell_type": "code",
      "execution_count": null,
      "metadata": {
        "colab": {
          "base_uri": "https://localhost:8080/"
        },
        "id": "aVDXSXnwACFm",
        "outputId": "a218d33e-9bd3-4f97-820a-23eea288c02e"
      },
      "outputs": [
        {
          "name": "stdout",
          "output_type": "stream",
          "text": [
            "1234\n"
          ]
        }
      ],
      "source": [
        "a = Bank.staffList[1].pin\n",
        "print(a)"
      ]
    },
    {
      "cell_type": "code",
      "execution_count": null,
      "metadata": {
        "id": "8GbcDwSFeVlp",
        "colab": {
          "base_uri": "https://localhost:8080/"
        },
        "outputId": "62e24db6-1fe4-405e-cf30-58546e0fb53f"
      },
      "outputs": [
        {
          "output_type": "stream",
          "name": "stdout",
          "text": [
            "zameer\n",
            "12346\n",
            "49999995000\n",
            "12345\n",
            "\n",
            "None\n",
            "mehul\n",
            "12347\n",
            "200000000200003766\n",
            "12345\n",
            "\n",
            "None\n"
          ]
        }
      ],
      "source": [
        "a  = Bank.accountList.values()\n",
        "for i in a:\n",
        "  print(i.printDetail())"
      ]
    }
  ],
  "metadata": {
    "colab": {
      "provenance": [],
      "authorship_tag": "ABX9TyMCfk1TlP9Su0k3ygDd+/jF",
      "include_colab_link": true
    },
    "kernelspec": {
      "display_name": "Python 3",
      "name": "python3"
    },
    "language_info": {
      "name": "python"
    }
  },
  "nbformat": 4,
  "nbformat_minor": 0
}